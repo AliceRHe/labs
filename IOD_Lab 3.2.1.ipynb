{
 "cells": [
  {
   "cell_type": "markdown",
   "metadata": {
    "id": "fneIB8BIGtiY"
   },
   "source": [
    "<div>\n",
    "<img src=https://www.institutedata.com/wp-content/uploads/2019/10/iod_h_tp_primary_c.svg width=\"300\">\n",
    "</div>"
   ]
  },
  {
   "cell_type": "markdown",
   "metadata": {
    "id": "rdipUchUGtih"
   },
   "source": [
    "# Lab 3.2.1 \n",
    "# *Querying the International Space Station*"
   ]
  },
  {
   "cell_type": "markdown",
   "metadata": {
    "id": "b2RLpeJNGtil"
   },
   "source": [
    "## The OpenNotify API"
   ]
  },
  {
   "cell_type": "markdown",
   "metadata": {
    "id": "rrunXmMNGtip"
   },
   "source": [
    "The OpenNotify API exposes a few attributes of the International Space Station (ISS) via a simple, authentication-free interface. The simplicity of this API precludes any need for a dedicated Python library. However, as with many APIs, it accepts requests according to HTTP standards and returns responses in JSON format, so the Python libraries request and json will make managing the I/O simpler still."
   ]
  },
  {
   "cell_type": "code",
   "execution_count": 1,
   "metadata": {
    "id": "xz4PaIIjGtis"
   },
   "outputs": [],
   "source": [
    "import requests\n",
    "import json\n",
    "from datetime import datetime, date, time"
   ]
  },
  {
   "cell_type": "markdown",
   "metadata": {
    "id": "tE2vsQo3Gti0"
   },
   "source": [
    "This request fetches the latest position of the international space station:"
   ]
  },
  {
   "cell_type": "code",
   "execution_count": 2,
   "metadata": {
    "id": "bXBJ6YSPGti3"
   },
   "outputs": [],
   "source": [
    "response = requests.get(\"http://api.open-notify.org/iss-now.json\")"
   ]
  },
  {
   "cell_type": "markdown",
   "metadata": {
    "id": "wTbnWjPGGti-"
   },
   "source": [
    "Print the status code and text of the response:"
   ]
  },
  {
   "cell_type": "code",
   "execution_count": 3,
   "metadata": {
    "colab": {
     "base_uri": "https://localhost:8080/"
    },
    "executionInfo": {
     "elapsed": 349,
     "status": "ok",
     "timestamp": 1656486719496,
     "user": {
      "displayName": "Muru Raj",
      "userId": "16263509272652930332"
     },
     "user_tz": -480
    },
    "id": "_I6hU3-AGtjA",
    "outputId": "063d1285-3a8f-409a-aed5-76511912fb1c"
   },
   "outputs": [
    {
     "name": "stdout",
     "output_type": "stream",
     "text": [
      "200\n"
     ]
    }
   ],
   "source": [
    "#ANSWER status code of the response\n",
    "print(response.status_code)"
   ]
  },
  {
   "cell_type": "code",
   "execution_count": 5,
   "metadata": {
    "colab": {
     "base_uri": "https://localhost:8080/"
    },
    "executionInfo": {
     "elapsed": 324,
     "status": "ok",
     "timestamp": 1656486759324,
     "user": {
      "displayName": "Muru Raj",
      "userId": "16263509272652930332"
     },
     "user_tz": -480
    },
    "id": "-WdeRA2iTYNy",
    "outputId": "ce58f787-ddf2-41e3-fa25-169380a569f6"
   },
   "outputs": [
    {
     "name": "stdout",
     "output_type": "stream",
     "text": [
      "{\"timestamp\": 1670016157, \"message\": \"success\", \"iss_position\": {\"longitude\": \"59.3179\", \"latitude\": \"-44.3908\"}}\n"
     ]
    }
   ],
   "source": [
    "#ANSWER text of the response\n",
    "print(response.text)"
   ]
  },
  {
   "cell_type": "markdown",
   "metadata": {
    "id": "eiziNer-GtjF"
   },
   "source": [
    "We can use another API to request the current position of the ISS and the next few times at which it will be over a certain location. The latitude and longitude of Sydney are (-33.87, 151.21)."
   ]
  },
  {
   "cell_type": "code",
   "execution_count": 135,
   "metadata": {
    "id": "2XZ-ygFkGtjH"
   },
   "outputs": [],
   "source": [
    "response = requests.get(\"https://api.g7vrd.co.uk/v1/satellite-passes/25544/-33.87/151.21.json?minelevation=0&hours=24\")"
   ]
  },
  {
   "cell_type": "markdown",
   "metadata": {
    "id": "aEl3pwmHGtjN"
   },
   "source": [
    "Print the response header:"
   ]
  },
  {
   "cell_type": "code",
   "execution_count": 7,
   "metadata": {
    "id": "6rsz7gwbGtjP"
   },
   "outputs": [
    {
     "name": "stdout",
     "output_type": "stream",
     "text": [
      "{'Date': 'Fri, 02 Dec 2022 21:24:08 GMT', 'Server': 'Apache', 'Vary': 'Origin,Access-Control-Request-Method,Access-Control-Request-Headers', 'Access-Control-Allow-Origin': '*', 'X-Content-Type-Options': 'nosniff', 'X-XSS-Protection': '1; mode=block', 'Cache-Control': 'no-cache, no-store, max-age=0, must-revalidate', 'Pragma': 'no-cache', 'Expires': '0', 'X-Frame-Options': 'DENY', 'Content-Type': 'application/json', 'Keep-Alive': 'timeout=5, max=100', 'Connection': 'Keep-Alive', 'Transfer-Encoding': 'chunked'}\n"
     ]
    }
   ],
   "source": [
    "#ANSWER headers of the response\n",
    "print(response.headers)"
   ]
  },
  {
   "cell_type": "markdown",
   "metadata": {
    "id": "W6tqlzySGtjR"
   },
   "source": [
    "Print the content of the response (the data that the server returned):"
   ]
  },
  {
   "cell_type": "code",
   "execution_count": 8,
   "metadata": {
    "id": "HbxepzDZGtjS"
   },
   "outputs": [
    {
     "name": "stdout",
     "output_type": "stream",
     "text": [
      "b'{\"api_status\":\"ALPHA\",\"request_timestamp\":\"2022-12-02T21:24:08.425022752Z\",\"norad_id\":25544,\"satellite_name\":\"ISS\",\"tle_last_retrieved\":\"2022-12-02T12:07:35.496179522Z\",\"lat\":-33.87,\"lon\":151.21,\"hours\":24,\"min_elevation\":0,\"query_ms\":14,\"passes\":[{\"start\":\"2022-12-02T21:35:38.411Z\",\"tca\":\"2022-12-02T21:41:08.411Z\",\"end\":\"2022-12-02T21:46:38.411Z\",\"aos_azimuth\":226,\"los_azimuth\":46,\"max_elevation\":84.0},{\"start\":\"2022-12-02T23:13:33.411Z\",\"tca\":\"2022-12-02T23:17:33.411Z\",\"end\":\"2022-12-02T23:21:13.411Z\",\"aos_azimuth\":259,\"los_azimuth\":349,\"max_elevation\":7.0},{\"start\":\"2022-12-03T12:39:38.411Z\",\"tca\":\"2022-12-03T12:44:38.411Z\",\"end\":\"2022-12-03T12:49:28.411Z\",\"aos_azimuth\":347,\"los_azimuth\":116,\"max_elevation\":18.0},{\"start\":\"2022-12-03T14:15:48.411Z\",\"tca\":\"2022-12-03T14:21:18.411Z\",\"end\":\"2022-12-03T14:26:33.411Z\",\"aos_azimuth\":294,\"los_azimuth\":140,\"max_elevation\":34.0},{\"start\":\"2022-12-03T15:54:43.411Z\",\"tca\":\"2022-12-03T15:58:43.411Z\",\"end\":\"2022-12-03T16:02:43.411Z\",\"aos_azimuth\":246,\"los_azimuth\":153,\"max_elevation\":7.0},{\"start\":\"2022-12-03T17:34:18.411Z\",\"tca\":\"2022-12-03T17:37:18.411Z\",\"end\":\"2022-12-03T17:40:03.411Z\",\"aos_azimuth\":210,\"los_azimuth\":146,\"max_elevation\":3.0},{\"start\":\"2022-12-03T19:11:23.411Z\",\"tca\":\"2022-12-03T19:15:23.411Z\",\"end\":\"2022-12-03T19:19:48.411Z\",\"aos_azimuth\":207,\"los_azimuth\":107,\"max_elevation\":8.0},{\"start\":\"2022-12-03T20:47:38.411Z\",\"tca\":\"2022-12-03T20:53:08.411Z\",\"end\":\"2022-12-03T20:58:33.411Z\",\"aos_azimuth\":221,\"los_azimuth\":59,\"max_elevation\":43.0},{\"start\":\"2022-12-03T22:24:48.411Z\",\"tca\":\"2022-12-03T22:29:18.411Z\",\"end\":\"2022-12-03T22:34:13.411Z\",\"aos_azimuth\":247,\"los_azimuth\":6,\"max_elevation\":14.0}]}'\n"
     ]
    }
   ],
   "source": [
    "#ANSWER content under the headers from the response\n",
    "print(response.content)"
   ]
  },
  {
   "cell_type": "markdown",
   "metadata": {
    "id": "N7tHPQzDGtjU"
   },
   "source": [
    "Note that this is a Python byte string:"
   ]
  },
  {
   "cell_type": "code",
   "execution_count": 9,
   "metadata": {
    "id": "k8AMo0yWGtjV"
   },
   "outputs": [
    {
     "name": "stdout",
     "output_type": "stream",
     "text": [
      "<class 'bytes'>\n"
     ]
    }
   ],
   "source": [
    "# type of the content = bytes\n",
    "print(type(response.content))"
   ]
  },
  {
   "cell_type": "markdown",
   "metadata": {
    "id": "5tvv9ht_GtjX"
   },
   "source": [
    "Print just the \"content-type\" value from the header:"
   ]
  },
  {
   "cell_type": "code",
   "execution_count": 18,
   "metadata": {
    "id": "nxWxxLI7GtjX"
   },
   "outputs": [
    {
     "name": "stdout",
     "output_type": "stream",
     "text": [
      "<class 'requests.structures.CaseInsensitiveDict'>\n"
     ]
    }
   ],
   "source": [
    "#ANSWER\n",
    "print(type(response.headers))"
   ]
  },
  {
   "cell_type": "markdown",
   "metadata": {
    "id": "7lPlgn_hGtjZ"
   },
   "source": [
    "JSON was designed to be easy for computers to read, not for people. The `requests` library can decode the JSON byte string:"
   ]
  },
  {
   "cell_type": "code",
   "execution_count": 136,
   "metadata": {
    "id": "nGVtgDaqGtja"
   },
   "outputs": [
    {
     "name": "stdout",
     "output_type": "stream",
     "text": [
      "{\n",
      "    \"api_status\": \"ALPHA\",\n",
      "    \"request_timestamp\": \"2022-12-06T04:37:08.584322535Z\",\n",
      "    \"norad_id\": 25544,\n",
      "    \"satellite_name\": \"ISS\",\n",
      "    \"tle_last_retrieved\": \"2022-12-05T10:47:45.251365174Z\",\n",
      "    \"lat\": -33.87,\n",
      "    \"lon\": 151.21,\n",
      "    \"hours\": 24,\n",
      "    \"min_elevation\": 0,\n",
      "    \"query_ms\": 18,\n",
      "    \"passes\": [\n",
      "        {\n",
      "            \"start\": \"2022-12-06T11:51:53.566Z\",\n",
      "            \"tca\": \"2022-12-06T11:56:53.566Z\",\n",
      "            \"end\": \"2022-12-06T12:02:28.566Z\",\n",
      "            \"aos_azimuth\": 334,\n",
      "            \"los_azimuth\": 124,\n",
      "            \"max_elevation\": 32.0\n",
      "        },\n",
      "        {\n",
      "            \"start\": \"2022-12-06T13:28:48.566Z\",\n",
      "            \"tca\": \"2022-12-06T13:33:48.566Z\",\n",
      "            \"end\": \"2022-12-06T13:39:08.566Z\",\n",
      "            \"aos_azimuth\": 283,\n",
      "            \"los_azimuth\": 144,\n",
      "            \"max_elevation\": 22.0\n",
      "        },\n",
      "        {\n",
      "            \"start\": \"2022-12-06T15:08:13.566Z\",\n",
      "            \"tca\": \"2022-12-06T15:11:43.566Z\",\n",
      "            \"end\": \"2022-12-06T15:15:23.566Z\",\n",
      "            \"aos_azimuth\": 235,\n",
      "            \"los_azimuth\": 153,\n",
      "            \"max_elevation\": 5.0\n",
      "        },\n",
      "        {\n",
      "            \"start\": \"2022-12-06T16:47:18.566Z\",\n",
      "            \"tca\": \"2022-12-06T16:50:18.566Z\",\n",
      "            \"end\": \"2022-12-06T16:53:18.566Z\",\n",
      "            \"aos_azimuth\": 206,\n",
      "            \"los_azimuth\": 140,\n",
      "            \"max_elevation\": 3.0\n",
      "        },\n",
      "        {\n",
      "            \"start\": \"2022-12-06T18:23:58.566Z\",\n",
      "            \"tca\": \"2022-12-06T18:28:28.566Z\",\n",
      "            \"end\": \"2022-12-06T18:33:08.566Z\",\n",
      "            \"aos_azimuth\": 209,\n",
      "            \"los_azimuth\": 96,\n",
      "            \"max_elevation\": 12.0\n",
      "        },\n",
      "        {\n",
      "            \"start\": \"2022-12-06T20:00:18.566Z\",\n",
      "            \"tca\": \"2022-12-06T20:05:48.566Z\",\n",
      "            \"end\": \"2022-12-06T20:11:18.566Z\",\n",
      "            \"aos_azimuth\": 225,\n",
      "            \"los_azimuth\": 47,\n",
      "            \"max_elevation\": 80.0\n",
      "        },\n",
      "        {\n",
      "            \"start\": \"2022-12-06T21:38:08.566Z\",\n",
      "            \"tca\": \"2022-12-06T21:42:08.566Z\",\n",
      "            \"end\": \"2022-12-06T21:45:58.566Z\",\n",
      "            \"aos_azimuth\": 257,\n",
      "            \"los_azimuth\": 350,\n",
      "            \"max_elevation\": 7.0\n",
      "        },\n",
      "        {\n",
      "            \"start\": \"2022-12-07T11:04:23.566Z\",\n",
      "            \"tca\": \"2022-12-07T11:09:23.566Z\",\n",
      "            \"end\": \"2022-12-07T11:14:08.566Z\",\n",
      "            \"aos_azimuth\": 348,\n",
      "            \"los_azimuth\": 115,\n",
      "            \"max_elevation\": 17.0\n",
      "        }\n",
      "    ]\n",
      "}\n"
     ]
    }
   ],
   "source": [
    "# the data of the response\n",
    "overheads = response.json()\n",
    "print(json.dumps(overheads, indent=4))"
   ]
  },
  {
   "cell_type": "markdown",
   "metadata": {
    "id": "l9GOdNK5Gtjc"
   },
   "source": [
    "What kind of object did this give us?"
   ]
  },
  {
   "cell_type": "code",
   "execution_count": null,
   "metadata": {
    "id": "JBS4nRmSGtjd"
   },
   "outputs": [],
   "source": [
    "#ANSWER:"
   ]
  },
  {
   "cell_type": "markdown",
   "metadata": {
    "id": "2ZYJabXQGtjg"
   },
   "source": [
    "Python dicts are easier to work with, but the data we want is still buried in that data structure, so we have to dig it out. First, extract the passes value to a separate list"
   ]
  },
  {
   "cell_type": "code",
   "execution_count": 58,
   "metadata": {
    "id": "0u8LZg4dGtjh"
   },
   "outputs": [
    {
     "name": "stdout",
     "output_type": "stream",
     "text": [
      "keys :  ('api_status', 'request_timestamp', 'norad_id', 'satellite_name', 'tle_last_retrieved', 'lat', 'lon', 'hours', 'min_elevation', 'query_ms', 'passes')\n",
      "values :  ('ALPHA', '2022-12-02T21:24:08.425022752Z', 25544, 'ISS', '2022-12-02T12:07:35.496179522Z', -33.87, 151.21, 24, 0, 14, [{'start': '2022-12-02T21:35:38.411Z', 'tca': '2022-12-02T21:41:08.411Z', 'end': '2022-12-02T21:46:38.411Z', 'aos_azimuth': 226, 'los_azimuth': 46, 'max_elevation': 84.0}, {'start': '2022-12-02T23:13:33.411Z', 'tca': '2022-12-02T23:17:33.411Z', 'end': '2022-12-02T23:21:13.411Z', 'aos_azimuth': 259, 'los_azimuth': 349, 'max_elevation': 7.0}, {'start': '2022-12-03T12:39:38.411Z', 'tca': '2022-12-03T12:44:38.411Z', 'end': '2022-12-03T12:49:28.411Z', 'aos_azimuth': 347, 'los_azimuth': 116, 'max_elevation': 18.0}, {'start': '2022-12-03T14:15:48.411Z', 'tca': '2022-12-03T14:21:18.411Z', 'end': '2022-12-03T14:26:33.411Z', 'aos_azimuth': 294, 'los_azimuth': 140, 'max_elevation': 34.0}, {'start': '2022-12-03T15:54:43.411Z', 'tca': '2022-12-03T15:58:43.411Z', 'end': '2022-12-03T16:02:43.411Z', 'aos_azimuth': 246, 'los_azimuth': 153, 'max_elevation': 7.0}, {'start': '2022-12-03T17:34:18.411Z', 'tca': '2022-12-03T17:37:18.411Z', 'end': '2022-12-03T17:40:03.411Z', 'aos_azimuth': 210, 'los_azimuth': 146, 'max_elevation': 3.0}, {'start': '2022-12-03T19:11:23.411Z', 'tca': '2022-12-03T19:15:23.411Z', 'end': '2022-12-03T19:19:48.411Z', 'aos_azimuth': 207, 'los_azimuth': 107, 'max_elevation': 8.0}, {'start': '2022-12-03T20:47:38.411Z', 'tca': '2022-12-03T20:53:08.411Z', 'end': '2022-12-03T20:58:33.411Z', 'aos_azimuth': 221, 'los_azimuth': 59, 'max_elevation': 43.0}, {'start': '2022-12-03T22:24:48.411Z', 'tca': '2022-12-03T22:29:18.411Z', 'end': '2022-12-03T22:34:13.411Z', 'aos_azimuth': 247, 'los_azimuth': 6, 'max_elevation': 14.0}])\n"
     ]
    }
   ],
   "source": [
    "#ANSWER:\n",
    "# key = headers, values = content\n",
    "keys, values = zip(*overheads.items())\n",
    "print (\"keys : \", str(keys))\n",
    "print (\"values : \", str(values))"
   ]
  },
  {
   "cell_type": "markdown",
   "metadata": {
    "id": "hMHzLrfoGtjj"
   },
   "source": [
    "Now extract the `start` strings into an array called `srisetimes`:"
   ]
  },
  {
   "cell_type": "code",
   "execution_count": 108,
   "metadata": {
    "id": "nXqJ8_F2Gtjj"
   },
   "outputs": [
    {
     "data": {
      "text/plain": [
       "['2022-12-02T21:35:38.411Z',\n",
       " '2022-12-02T23:13:33.411Z',\n",
       " '2022-12-03T12:39:38.411Z',\n",
       " '2022-12-03T14:15:48.411Z',\n",
       " '2022-12-03T15:54:43.411Z',\n",
       " '2022-12-03T17:34:18.411Z',\n",
       " '2022-12-03T19:11:23.411Z',\n",
       " '2022-12-03T20:47:38.411Z',\n",
       " '2022-12-03T22:24:48.411Z']"
      ]
     },
     "execution_count": 108,
     "metadata": {},
     "output_type": "execute_result"
    }
   ],
   "source": [
    "#ANSWER:\n",
    "# for each start time in every index under the header passes, append start times to a new list\n",
    "passes = overheads['passes']\n",
    "srisetimes = []\n",
    "for i in range(len(passes)):\n",
    "    start_times = passes[i]['start']\n",
    "    srisetimes.append(start_times)\n",
    "srisetimes"
   ]
  },
  {
   "cell_type": "markdown",
   "metadata": {
    "id": "RItuBRt-Gtjl"
   },
   "source": [
    "These are strings. We convert these to an array of Python `datetime` values called `risetimes`:"
   ]
  },
  {
   "cell_type": "code",
   "execution_count": 110,
   "metadata": {
    "id": "8rzyAcLTGtjm"
   },
   "outputs": [
    {
     "data": {
      "text/plain": [
       "[datetime.datetime(2022, 12, 2, 21, 35, 38, 411000),\n",
       " datetime.datetime(2022, 12, 2, 23, 13, 33, 411000),\n",
       " datetime.datetime(2022, 12, 3, 12, 39, 38, 411000),\n",
       " datetime.datetime(2022, 12, 3, 14, 15, 48, 411000),\n",
       " datetime.datetime(2022, 12, 3, 15, 54, 43, 411000),\n",
       " datetime.datetime(2022, 12, 3, 17, 34, 18, 411000),\n",
       " datetime.datetime(2022, 12, 3, 19, 11, 23, 411000),\n",
       " datetime.datetime(2022, 12, 3, 20, 47, 38, 411000),\n",
       " datetime.datetime(2022, 12, 3, 22, 24, 48, 411000)]"
      ]
     },
     "execution_count": 110,
     "metadata": {},
     "output_type": "execute_result"
    }
   ],
   "source": [
    "# change the date format of every start time value within passes column\n",
    "= [datetime.strptime(xpass['start'], \"%Y-%m-%dT%H:%M:%S.%fZ\") for xpass in passes]\n",
    "risetimes"
   ]
  },
  {
   "cell_type": "markdown",
   "metadata": {
    "id": "l1EmKOFqGtjn"
   },
   "source": [
    "Finally, use `risetime.strftime` to print these in a format that people understand:\n",
    "\n",
    "```\n",
    "e.g.\n",
    "18/10/22 07:05\n",
    "18/10/22 08:41\n",
    "18/10/22 10:20\n",
    "18/10/22 12:00\n",
    "18/10/22 01:37\n",
    "18/10/22 03:13\n",
    "```\n",
    "\n"
   ]
  },
  {
   "cell_type": "code",
   "execution_count": 129,
   "metadata": {
    "id": "AkBE76VqGtjo"
   },
   "outputs": [
    {
     "name": "stdout",
     "output_type": "stream",
     "text": [
      "02/12/22 21:35\n",
      "02/12/22 23:13\n",
      "03/12/22 12:39\n",
      "03/12/22 14:15\n",
      "03/12/22 15:54\n",
      "03/12/22 17:34\n",
      "03/12/22 19:11\n",
      "03/12/22 20:47\n",
      "03/12/22 22:24\n"
     ]
    }
   ],
   "source": [
    "#ANSWER:\n",
    "# format every start time in risetimes list to d/m/y h:m format\n",
    "for risetime in risetimes:\n",
    "    time = risetime.strftime(\"%d/%m/%y %H:%M\")\n",
    "    print(time)"
   ]
  },
  {
   "cell_type": "markdown",
   "metadata": {
    "id": "iNm6GjX3Gtjq"
   },
   "source": [
    "Finally, here is an endpoint that tells us who is on board:"
   ]
  },
  {
   "cell_type": "code",
   "execution_count": 137,
   "metadata": {
    "id": "12yXs_OgGtjs"
   },
   "outputs": [],
   "source": [
    "response = requests.get(\"http://api.open-notify.org/astros.json\")"
   ]
  },
  {
   "cell_type": "code",
   "execution_count": 138,
   "metadata": {},
   "outputs": [
    {
     "name": "stdout",
     "output_type": "stream",
     "text": [
      "{\n",
      "    \"people\": [\n",
      "        {\n",
      "            \"craft\": \"Tiangong\",\n",
      "            \"name\": \"Cai Xuzhe\"\n",
      "        },\n",
      "        {\n",
      "            \"craft\": \"Tiangong\",\n",
      "            \"name\": \"Chen Dong\"\n",
      "        },\n",
      "        {\n",
      "            \"craft\": \"Tiangong\",\n",
      "            \"name\": \"Liu Yang\"\n",
      "        },\n",
      "        {\n",
      "            \"craft\": \"ISS\",\n",
      "            \"name\": \"Sergey Prokopyev\"\n",
      "        },\n",
      "        {\n",
      "            \"craft\": \"ISS\",\n",
      "            \"name\": \"Dmitry Petelin\"\n",
      "        },\n",
      "        {\n",
      "            \"craft\": \"ISS\",\n",
      "            \"name\": \"Frank Rubio\"\n",
      "        },\n",
      "        {\n",
      "            \"craft\": \"ISS\",\n",
      "            \"name\": \"Nicole Mann\"\n",
      "        },\n",
      "        {\n",
      "            \"craft\": \"ISS\",\n",
      "            \"name\": \"Josh Cassada\"\n",
      "        },\n",
      "        {\n",
      "            \"craft\": \"ISS\",\n",
      "            \"name\": \"Koichi Wakata\"\n",
      "        },\n",
      "        {\n",
      "            \"craft\": \"ISS\",\n",
      "            \"name\": \"Anna Kikina\"\n",
      "        },\n",
      "        {\n",
      "            \"craft\": \"Shenzhou 15\",\n",
      "            \"name\": \"Fei Junlong\"\n",
      "        },\n",
      "        {\n",
      "            \"craft\": \"Shenzhou 15\",\n",
      "            \"name\": \"Deng Qingming\"\n",
      "        },\n",
      "        {\n",
      "            \"craft\": \"Shenzhou 15\",\n",
      "            \"name\": \"Zhang Lu\"\n",
      "        }\n",
      "    ],\n",
      "    \"number\": 13,\n",
      "    \"message\": \"success\"\n",
      "}\n"
     ]
    }
   ],
   "source": [
    "# data of the astronauts in new api data\n",
    "astronauts = response.json()\n",
    "print(json.dumps(astronauts, indent=4))"
   ]
  },
  {
   "cell_type": "code",
   "execution_count": 131,
   "metadata": {},
   "outputs": [
    {
     "name": "stdout",
     "output_type": "stream",
     "text": [
      "keys :  ('people', 'number', 'message')\n",
      "values :  ([{'craft': 'Tiangong', 'name': 'Cai Xuzhe'}, {'craft': 'Tiangong', 'name': 'Chen Dong'}, {'craft': 'Tiangong', 'name': 'Liu Yang'}, {'craft': 'ISS', 'name': 'Sergey Prokopyev'}, {'craft': 'ISS', 'name': 'Dmitry Petelin'}, {'craft': 'ISS', 'name': 'Frank Rubio'}, {'craft': 'ISS', 'name': 'Nicole Mann'}, {'craft': 'ISS', 'name': 'Josh Cassada'}, {'craft': 'ISS', 'name': 'Koichi Wakata'}, {'craft': 'ISS', 'name': 'Anna Kikina'}, {'craft': 'Shenzhou 15', 'name': 'Fei Junlong'}, {'craft': 'Shenzhou 15', 'name': 'Deng Qingming'}, {'craft': 'Shenzhou 15', 'name': 'Zhang Lu'}], 13, 'success')\n"
     ]
    }
   ],
   "source": [
    "# keys = header, values = content\n",
    "keys, values = zip(*astronauts.items())\n",
    "print (\"keys : \", str(keys))\n",
    "print (\"values : \", str(values))"
   ]
  },
  {
   "cell_type": "markdown",
   "metadata": {
    "id": "0Np4S0aAGtj0"
   },
   "source": [
    "Referring to the methods used above, extract the number of astronauts and their names:"
   ]
  },
  {
   "cell_type": "code",
   "execution_count": 139,
   "metadata": {
    "id": "Oqx5L19_Gtj1"
   },
   "outputs": [
    {
     "data": {
      "text/plain": [
       "13"
      ]
     },
     "execution_count": 139,
     "metadata": {},
     "output_type": "execute_result"
    }
   ],
   "source": [
    "#ANSWER:\n",
    "# number of astronauts\n",
    "num_of_astro = astronauts['number']\n",
    "num_of_astro"
   ]
  },
  {
   "cell_type": "code",
   "execution_count": 142,
   "metadata": {},
   "outputs": [
    {
     "name": "stdout",
     "output_type": "stream",
     "text": [
      "['Cai Xuzhe', 'Chen Dong', 'Liu Yang', 'Sergey Prokopyev', 'Dmitry Petelin', 'Frank Rubio', 'Nicole Mann', 'Josh Cassada', 'Koichi Wakata', 'Anna Kikina', 'Fei Junlong', 'Deng Qingming', 'Zhang Lu']\n"
     ]
    }
   ],
   "source": [
    "# for names of astronauts: for every name in every index under people, append to name of astronaut.\n",
    "astro_names = []\n",
    "people = astronauts['people']\n",
    "for i in range(len(people)):\n",
    "    names = people[i]['name']\n",
    "    astro_names.append(names)\n",
    "print(astro_names)"
   ]
  },
  {
   "cell_type": "markdown",
   "metadata": {
    "id": "A4-DBw_bGtj2"
   },
   "source": [
    "## HOMEWORK\n"
   ]
  },
  {
   "cell_type": "markdown",
   "metadata": {
    "id": "c134mC6WGtj3"
   },
   "source": [
    "1. Write a simple handler for the response status code (refer to lab resources slide for HTTP response codes). As this Jupyter Notebook is an interactive device, the handler does not need to manage subsequent code execution (i.e. by branching or aborting execution), although it should return something that could be used to do so if deployed in a Python program."
   ]
  },
  {
   "cell_type": "code",
   "execution_count": 145,
   "metadata": {
    "id": "FZM2NAWuGtj4"
   },
   "outputs": [
    {
     "data": {
      "text/plain": [
       "(False, 200)"
      ]
     },
     "execution_count": 145,
     "metadata": {},
     "output_type": "execute_result"
    }
   ],
   "source": [
    "#ANSWER:\n",
    "def handleResponse(response, verbose = False):\n",
    "    '''\n",
    "    Returns Boolean Value, Status Code, \n",
    "    '''\n",
    "    status_code = response.status_code\n",
    "    if status_code == 200:\n",
    "        return False, status_code\n",
    "    else:\n",
    "        return True, status_code\n",
    "  # if Status Code is 200 return false, and status code\n",
    "  # Otherwise Return True and Status Code\n",
    "\n",
    "handleResponse(response)"
   ]
  },
  {
   "cell_type": "markdown",
   "metadata": {
    "id": "9aPstlTIGtj5"
   },
   "source": [
    "2. Test your response handler on some correct and incorrect API calls."
   ]
  },
  {
   "cell_type": "code",
   "execution_count": 144,
   "metadata": {
    "id": "GYT1LAb8Gtj6"
   },
   "outputs": [
    {
     "data": {
      "text/plain": [
       "False"
      ]
     },
     "execution_count": 144,
     "metadata": {},
     "output_type": "execute_result"
    }
   ],
   "source": [
    "response = requests.get(\"http://api.open-notify.org/astros.json\")\n",
    "if handleResponse(response)[0]:\n",
    "    print('API call failed. Resolve issue before continuing!')\n",
    "    \n",
    "response = requests.get(\"http://api.open-notify.org/iss-now.json\")\n",
    "handleResponse(response, True)[0]"
   ]
  },
  {
   "cell_type": "markdown",
   "metadata": {
    "id": "k0AWq0rIIPza"
   },
   "source": [
    ">"
   ]
  },
  {
   "cell_type": "markdown",
   "metadata": {
    "id": "561tVw5LITP8"
   },
   "source": [
    ">"
   ]
  },
  {
   "cell_type": "markdown",
   "metadata": {
    "id": "H8Z7AkhTIUi3"
   },
   "source": [
    ">"
   ]
  },
  {
   "cell_type": "markdown",
   "metadata": {
    "id": "2lHXfE7KIHQp"
   },
   "source": [
    "\n",
    "\n",
    "---\n",
    "\n",
    "\n",
    "\n",
    "---\n",
    "\n",
    "\n",
    "\n",
    "> > > > > > > > > © 2022 Institute of Data\n",
    "\n",
    "\n",
    "---\n",
    "\n",
    "\n",
    "\n",
    "---\n",
    "\n",
    "\n",
    "\n"
   ]
  }
 ],
 "metadata": {
  "colab": {
   "collapsed_sections": [],
   "provenance": [
    {
     "file_id": "1RknypYS3TD4wPumGiPV69EWtkq-3UBwF",
     "timestamp": 1553136072736
    }
   ]
  },
  "kernelspec": {
   "display_name": "Python 3 (ipykernel)",
   "language": "python",
   "name": "python3"
  },
  "language_info": {
   "codemirror_mode": {
    "name": "ipython",
    "version": 3
   },
   "file_extension": ".py",
   "mimetype": "text/x-python",
   "name": "python",
   "nbconvert_exporter": "python",
   "pygments_lexer": "ipython3",
   "version": "3.10.8"
  }
 },
 "nbformat": 4,
 "nbformat_minor": 4
}
