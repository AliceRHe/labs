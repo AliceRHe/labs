{
 "cells": [
  {
   "cell_type": "markdown",
   "metadata": {
    "id": "XfnQYVMtJhQD"
   },
   "source": [
    "<div>\n",
    "<img src=https://www.institutedata.com/wp-content/uploads/2019/10/iod_h_tp_primary_c.svg width=\"300\">\n",
    "</div>\n"
   ]
  },
  {
   "cell_type": "markdown",
   "metadata": {
    "id": "5dCt8XbjJhQG"
   },
   "source": [
    "# Lab 3.2.2 \n",
    "# *Mining Social Media with Twitter*"
   ]
  },
  {
   "cell_type": "markdown",
   "metadata": {
    "id": "b5VfS9hhJhQI"
   },
   "source": [
    "## The Twitter API and Tweepy Package"
   ]
  },
  {
   "cell_type": "markdown",
   "metadata": {
    "id": "lF2z-w5uJhQK"
   },
   "source": [
    "The Twitter API provides access to tweets and comments, and allows an application to post tweets to the user's timeline. \n",
    "\n",
    "Twitter requires developers to create and authenticate an app before they can use the API. "
   ]
  },
  {
   "cell_type": "markdown",
   "metadata": {
    "id": "M0wxJ8HNJhQM"
   },
   "source": [
    "### 1. Apply for Developer Access\n"
   ]
  },
  {
   "cell_type": "markdown",
   "metadata": {
    "id": "tICSKwL1JhQN"
   },
   "source": [
    "Apply at https://developer.twitter.com/en/apply-for-access.html for elevated access (https://developer.twitter.com/en/portal/products/elevated). Where asked state that you will use the app as a student to explore the tweepy Python library and use it to fetch recent tweets and to create/delete a tweet."
   ]
  },
  {
   "cell_type": "markdown",
   "metadata": {
    "id": "NMeZ70IZJhQR"
   },
   "source": [
    "### 2. Create Your Twitter App\n",
    "Go to https://developer.twitter.com/en/portal/projects-and-apps and click on the \"+ New Project\" button. Give your project a name, select Student as the use case and enter a brief project description. Then click on the \"Create new\" button to create a new App. Choose a \"Development\" app environment, give your app a name and you will be able to see your API Key, API Key Secret and Bearer Token. You will also be able to generate an Access Token and Secret. Copy-paste these authentication details for use in this lab."
   ]
  },
  {
   "cell_type": "markdown",
   "metadata": {
    "id": "HpWMHz9NJhQS"
   },
   "source": [
    "### 3. Load Python Libraries"
   ]
  },
  {
   "cell_type": "code",
   "execution_count": 5,
   "metadata": {
    "id": "KsGuvayZc-_e"
   },
   "outputs": [],
   "source": [
    "#!pip install tweepy\n",
    "#!pip install textblob"
   ]
  },
  {
   "cell_type": "code",
   "execution_count": 68,
   "metadata": {
    "id": "16hb8EpNJhQU"
   },
   "outputs": [],
   "source": [
    "import tweepy\n",
    "import json\n",
    "import pprint\n",
    "import pandas as pd\n",
    "import matplotlib.pyplot as plt\n",
    "from textblob import TextBlob"
   ]
  },
  {
   "cell_type": "markdown",
   "metadata": {
    "id": "6lf2fwAic-_g"
   },
   "source": [
    "Ensure your version of tweepy is 4.5.0 or later:"
   ]
  },
  {
   "cell_type": "code",
   "execution_count": 69,
   "metadata": {
    "colab": {
     "base_uri": "https://localhost:8080/",
     "height": 35
    },
    "executionInfo": {
     "elapsed": 351,
     "status": "ok",
     "timestamp": 1656472520364,
     "user": {
      "displayName": "Muru Raj",
      "userId": "16263509272652930332"
     },
     "user_tz": -480
    },
    "id": "8CLVF4DBc-_g",
    "outputId": "322dad66-45d3-4c07-dee1-67e16f317133"
   },
   "outputs": [
    {
     "data": {
      "text/plain": [
       "'4.12.1'"
      ]
     },
     "execution_count": 69,
     "metadata": {},
     "output_type": "execute_result"
    }
   ],
   "source": [
    "tweepy.__version__"
   ]
  },
  {
   "cell_type": "markdown",
   "metadata": {
    "id": "p7W0se6_JhQX"
   },
   "source": [
    "### 4. Authenticate from your Python script"
   ]
  },
  {
   "cell_type": "markdown",
   "metadata": {
    "id": "mJfe55dVJhQY"
   },
   "source": [
    "You could assign your authentication details explicitly, as follows:"
   ]
  },
  {
   "cell_type": "code",
   "execution_count": 70,
   "metadata": {
    "id": "aygW7a3eJhQZ"
   },
   "outputs": [],
   "source": [
    "bearer_token= \"AAAAAAAAAAAAAAAAAAAAAL31jwEAAAAAqUR8kkBQFBI093U1bzZR8VX1Ks8%3DsH98PdA3WA1yjGU4W84veKy5cCS5gONoz3pGMY8mWRp41q4QE2\" #your bearer token (string) goes in here\n",
    "api_consumer_key = \"7fBtEJSYLgDzj4DwPMHneIGx0\" # your consumer key (string) goes in here\n",
    "api_consumer_secret = \"ve8SEz5clVOyQAvIygmkDyzOzbTig9O5HGypcsHDV69lPvLvbA\" # your consumer secret key (string) goes in here\n",
    "access_token = \"1598799841081327621-2IDotOLqczT9tza1rCff5r33iYtxva\"  # your access token (string) goes in here\n",
    "access_token_secret = \"cCKxRPsW2oiFIbsCcw73C2hu9a8QVGT1VemHMifxXDFsL\"  # your access token secret (string) goes in here"
   ]
  },
  {
   "cell_type": "markdown",
   "metadata": {
    "id": "7LXwmSzOJhQe"
   },
   "source": [
    "A better way would be to store these details externally, so they are not displayed in the notebook:\n",
    "\n",
    "- create a file called \"auth_twitter.json\" in your \"notebooks\" directory, and save your credentials there in JSON format:\n",
    "\n",
    "`{`<br>\n",
    "&nbsp;&nbsp;&nbsp;&nbsp;&nbsp;&nbsp;&nbsp;&nbsp;`   \"bearer_token\": \"your bearer token (string) goes in here\",` <br>\n",
    "&nbsp;&nbsp;&nbsp;&nbsp;&nbsp;&nbsp;&nbsp;&nbsp;`   \"consumer_key\": \"your consumer key (string) goes in here\",` <br>\n",
    "&nbsp;&nbsp;&nbsp;&nbsp;&nbsp;&nbsp;&nbsp;&nbsp;` \"consumer_secret\": \"your consumer secret key (string) goes in here\",` <br>\n",
    "&nbsp;&nbsp;&nbsp;&nbsp;&nbsp;&nbsp;&nbsp;&nbsp;`\"access_token\": \"your access token (string) goes in here\",` <br>\n",
    "&nbsp;&nbsp;&nbsp;&nbsp;&nbsp;&nbsp;&nbsp;&nbsp;`\"access_token_secret\": \"your access token secret (string) goes in here\"` <br>\n",
    "`}`\n",
    "\n",
    "(Nb. Parsers are very fussy. Make sure each key:value pair has a comma after it except the last one!)  \n",
    "\n",
    "Use the following code to load the credentials:  "
   ]
  },
  {
   "cell_type": "code",
   "execution_count": 71,
   "metadata": {
    "id": "kh2srKpzJhQh"
   },
   "outputs": [
    {
     "data": {
      "text/plain": [
       "'C:\\\\Users\\\\alice\\\\Desktop\\\\IOD\\\\Lab 3'"
      ]
     },
     "execution_count": 71,
     "metadata": {},
     "output_type": "execute_result"
    }
   ],
   "source": [
    "pwd(HelloPanda)  # make sure your working directory is where the file is"
   ]
  },
  {
   "cell_type": "code",
   "execution_count": 101,
   "metadata": {
    "id": "uR8Vchz7JhQm"
   },
   "outputs": [],
   "source": [
    "path_auth = 'auth_twitter.json'\n",
    "auth = json.loads(open(path_auth).read())\n",
    "pp = pprint.PrettyPrinter(indent=4)\n",
    "# For debugging only:\n",
    "#pp.pprint(auth)\n",
    "\n",
    "my_bearer_token = auth['bearer_token']\n",
    "my_consumer_key = auth['consumer_key']\n",
    "my_consumer_secret = auth['consumer_secret']\n",
    "my_access_token = auth['access_token']\n",
    "my_access_token_secret = auth['access_token_secret']"
   ]
  },
  {
   "cell_type": "markdown",
   "metadata": {
    "id": "GPRmYZigJhQp"
   },
   "source": [
    "Security considerations: \n",
    "- this method only keeps your credentials invisible as long as nobody accesses this notebook while it's running on your computer \n",
    "- if you wanted another user to have access to the executable notebook without divulging your credentials you should set up an OAuth 2.0 workflow to let them obtain and apply their own API tokens when using your app\n",
    "- if you just want to share your analyses, you could use a separate script (which you don't share) to fetch the data and save it locally, then use a second notebook (with no API access) to load and analyse the locally stored data"
   ]
  },
  {
   "cell_type": "markdown",
   "metadata": {
    "id": "Ln30k0pZJhQp"
   },
   "source": [
    "### 5. Exploring the API"
   ]
  },
  {
   "cell_type": "markdown",
   "metadata": {
    "id": "6fsc0U1nJhQq"
   },
   "source": [
    "Here is how to connect to Twitter using the Tweepy library:"
   ]
  },
  {
   "cell_type": "code",
   "execution_count": 102,
   "metadata": {
    "id": "-y_4GBx1JhQr"
   },
   "outputs": [],
   "source": [
    "client = tweepy.Client(\n",
    "    bearer_token=my_bearer_token,\n",
    "    consumer_key=my_consumer_key,\n",
    "    consumer_secret=my_consumer_secret,\n",
    "    access_token=my_access_token,\n",
    "    access_token_secret=my_access_token_secret\n",
    ")"
   ]
  },
  {
   "cell_type": "markdown",
   "metadata": {
    "id": "wSKzR9LdJhQu"
   },
   "source": [
    "In the next cell, put the cursor after the '.' and hit the [tab] key to see the available members and methods in the response object:"
   ]
  },
  {
   "cell_type": "code",
   "execution_count": 74,
   "metadata": {
    "id": "BfnAOR2bJhQv"
   },
   "outputs": [],
   "source": [
    "#client."
   ]
  },
  {
   "cell_type": "markdown",
   "metadata": {
    "id": "Rsg8iydhc-_k"
   },
   "source": [
    "To obtain your followers, enter your Twitter id. An easy way to find this is via https://tweeterid.com/."
   ]
  },
  {
   "cell_type": "code",
   "execution_count": 88,
   "metadata": {
    "id": "uU6XD1G_c-_k"
   },
   "outputs": [],
   "source": [
    "myid = '1598799841081327621' #enter your id\n",
    "followers = client.get_users_followers(id=myid)"
   ]
  },
  {
   "cell_type": "code",
   "execution_count": 89,
   "metadata": {
    "id": "XnIYpIedc-_k"
   },
   "outputs": [
    {
     "ename": "TypeError",
     "evalue": "'NoneType' object is not subscriptable",
     "output_type": "error",
     "traceback": [
      "\u001b[1;31m---------------------------------------------------------------------------\u001b[0m",
      "\u001b[1;31mTypeError\u001b[0m                                 Traceback (most recent call last)",
      "Cell \u001b[1;32mIn [89], line 1\u001b[0m\n\u001b[1;32m----> 1\u001b[0m \u001b[43mfollowers\u001b[49m\u001b[38;5;241;43m.\u001b[39;49m\u001b[43mdata\u001b[49m\u001b[43m[\u001b[49m\u001b[38;5;241;43m0\u001b[39;49m\u001b[43m]\u001b[49m\u001b[38;5;241m.\u001b[39mid\n",
      "\u001b[1;31mTypeError\u001b[0m: 'NoneType' object is not subscriptable"
     ]
    }
   ],
   "source": [
    "followers.data[0].id\n",
    "#try id, name, username"
   ]
  },
  {
   "cell_type": "markdown",
   "metadata": {
    "id": "hKutscQxc-_k"
   },
   "source": [
    "You can enter a query such as the following to look up recent tweets based on a search string (excluding retweets)."
   ]
  },
  {
   "cell_type": "code",
   "execution_count": 90,
   "metadata": {
    "id": "bYlGH26Tc-_k"
   },
   "outputs": [],
   "source": [
    "query = 'winterolympics -is:retweet'\n",
    "\n",
    "tweets = client.search_recent_tweets(query=query, tweet_fields=['context_annotations', 'created_at'],\n",
    "                                     media_fields=['preview_image_url'], expansions='attachments.media_keys',\n",
    "                                     max_results=100)"
   ]
  },
  {
   "cell_type": "code",
   "execution_count": 91,
   "metadata": {
    "id": "ac_kFPODc-_l"
   },
   "outputs": [
    {
     "data": {
      "text/plain": [
       "[{'domain': {'id': '6', 'name': 'Sports Event'},\n",
       "  'entity': {'id': '1237760060828213249', 'name': 'Olympics'}},\n",
       " {'domain': {'id': '6', 'name': 'Sports Event'},\n",
       "  'entity': {'id': '1284174028442230785', 'name': 'Winter Olympics'}},\n",
       " {'domain': {'id': '12',\n",
       "   'name': 'Sports Team',\n",
       "   'description': 'A sports team organization, like Arsenal and the Boston Celtics'},\n",
       "  'entity': {'id': '1400530139130130433', 'name': 'Canada Olympic Team'}},\n",
       " {'domain': {'id': '46',\n",
       "   'name': 'Business Taxonomy',\n",
       "   'description': 'Categories within Brand Verticals that narrow down the scope of Brands'},\n",
       "  'entity': {'id': '1557697289971322880',\n",
       "   'name': 'Sports & Fitness Business',\n",
       "   'description': 'Brands, companies, advertisers and every non-person handle with the profit intent related to sports nutrition, athletic apparel, sports apps, fitness venues'}},\n",
       " {'domain': {'id': '131',\n",
       "   'name': 'Unified Twitter Taxonomy',\n",
       "   'description': 'A taxonomy of user interests. '},\n",
       "  'entity': {'id': '847900493514891265',\n",
       "   'name': 'Sports',\n",
       "   'description': 'Sports'}},\n",
       " {'domain': {'id': '131',\n",
       "   'name': 'Unified Twitter Taxonomy',\n",
       "   'description': 'A taxonomy of user interests. '},\n",
       "  'entity': {'id': '1284153285293690881', 'name': 'Summer Olympics'}},\n",
       " {'domain': {'id': '131',\n",
       "   'name': 'Unified Twitter Taxonomy',\n",
       "   'description': 'A taxonomy of user interests. '},\n",
       "  'entity': {'id': '1284174028442230785', 'name': 'Winter Olympics'}},\n",
       " {'domain': {'id': '131',\n",
       "   'name': 'Unified Twitter Taxonomy',\n",
       "   'description': 'A taxonomy of user interests. '},\n",
       "  'entity': {'id': '1400530139130130433', 'name': 'Canada Olympic Team'}}]"
      ]
     },
     "execution_count": 91,
     "metadata": {},
     "output_type": "execute_result"
    }
   ],
   "source": [
    "tweets.data[0].context_annotations"
   ]
  },
  {
   "cell_type": "markdown",
   "metadata": {
    "id": "DcJ-cc6zJhQz"
   },
   "source": [
    "Consult the Tweepy and Twitter API documentation. Print a few of the response members below:"
   ]
  },
  {
   "cell_type": "code",
   "execution_count": 92,
   "metadata": {
    "id": "W_IKqMAQJhQ1"
   },
   "outputs": [
    {
     "name": "stdout",
     "output_type": "stream",
     "text": [
      "Response(data=[<Tweet id=1598846941705691137 text='‘Things are tough for everyone’: Auckland mayor’s latest cost-cutting call https://t.co/BvuIK7Xcy2 https://t.co/uTK2u7xYSR'>, <Tweet id=1598842081216282631 text=\"'Unacceptable' World Cup act slammed https://t.co/jSsAyTKrQl https://t.co/HXnpV9QMul\">, <Tweet id=1598838378568585216 text='Podular creditors owed $5.2m https://t.co/EwmMPIDPfn https://t.co/e3zmTsVMFV'>, <Tweet id=1598834494819237888 text='Phil Gifford: Eight lasting rugby memories from 2022\\xa0#HeraldPremium  https://t.co/TMNuPT1Xam https://t.co/9XFpMpnjQK'>, <Tweet id=1598830229824356352 text='#BREAKING | Homicide investigation launched into the death of Taranaki man https://t.co/CbzCZ5L9v7 https://t.co/6leCVQkEob'>, <Tweet id=1598825995364073472 text='Holiday hell: ACC dilemma keeps NZ woman from returning to Australia https://t.co/uhoXNMFSwp https://t.co/3H05JrZIkr'>, <Tweet id=1598820704962617353 text='#UPDATE | ‘Good progress’: Police say they are ‘confident’ of finding those who murdered teen https://t.co/ZP3OcBwOay https://t.co/VLQEEvjD2j'>, <Tweet id=1598816203790843905 text='Scenes from an Italian restaurant: Billy Joel hits the town before historic Auckland show https://t.co/v9nMGO8c9Y https://t.co/Xl4UaDSshy'>, <Tweet id=1598807811982598154 text='Three Waters: Questions remain over how anti-privatisation clause got past ministers https://t.co/XfGMyegF43 https://t.co/h5pT4DQoQc'>, <Tweet id=1598803121928642561 text='Revealed: Bank boss felt a lack of control #HeraldPremium  https://t.co/kXgXqSidhk https://t.co/WT1SrPlbxJ'>], includes={}, errors=[], meta={'newest_id': '1598846941705691137', 'oldest_id': '1598803121928642561', 'result_count': 10, 'next_token': 'b26v89c19zqg8o3fpzhmlcgpaihxj74acn0upr7rt6a2l'})\n"
     ]
    }
   ],
   "source": [
    "username = 'nzherald' #choose a username\n",
    "query = 'from:' + username\n",
    "recent_tweets = client.search_recent_tweets(query=query, \n",
    "                                    tweet_fields=['attachments','author_id','context_annotations','created_at','entities','geo','id','in_reply_to_user_id','lang','possibly_sensitive','public_metrics','referenced_tweets','source','text','withheld'],\n",
    "                                     max_results=10)\n",
    "print(recent_tweets)"
   ]
  },
  {
   "cell_type": "markdown",
   "metadata": {
    "id": "dLkdLKjLJhQ3"
   },
   "source": [
    "The following few cells will fetch recent tweets from accounts you follow:"
   ]
  },
  {
   "cell_type": "code",
   "execution_count": 93,
   "metadata": {
    "id": "l9y8t3X7JhQ4"
   },
   "outputs": [
    {
     "name": "stdout",
     "output_type": "stream",
     "text": [
      "6\n"
     ]
    }
   ],
   "source": [
    "users = client.get_users_following(id=myid, max_results = 1000, user_fields=['profile_image_url'])\n",
    "print(len(users.data)) #number of accounts you follow"
   ]
  },
  {
   "cell_type": "code",
   "execution_count": 94,
   "metadata": {
    "id": "G-MR5Adrc-_l"
   },
   "outputs": [
    {
     "name": "stdout",
     "output_type": "stream",
     "text": [
      "[27726303, 1604444052, 498292566, 14765253, 14301074, 20998647]\n"
     ]
    }
   ],
   "source": [
    "following_ids = []\n",
    "for user in users.data:\n",
    "    following_ids.append(user.id)\n",
    "print(following_ids)"
   ]
  },
  {
   "cell_type": "markdown",
   "metadata": {
    "id": "gdFesxE7c-_l"
   },
   "source": [
    "If you do not follow any accounts, create a list called following_ids with a list of ids of interest that can be looked up from https://tweeterid.com/."
   ]
  },
  {
   "cell_type": "code",
   "execution_count": null,
   "metadata": {
    "id": "zh43VydUc-_m"
   },
   "outputs": [],
   "source": []
  },
  {
   "cell_type": "code",
   "execution_count": 95,
   "metadata": {
    "id": "UuE2TF0Lc-_m"
   },
   "outputs": [
    {
     "name": "stdout",
     "output_type": "stream",
     "text": [
      "27726303 2022-12-03 00:16:00+00:00 Putting distance between the moment that your anger is triggered and your angry response can feel difficult at times—but it's doable. Here's how to start, by @DrRubinKhoddam https://t.co/Z7ySqywxAp\n",
      "27726303 2022-12-02 22:18:00+00:00 \"The client-therapist relationship is the single most important factor in a successful therapeutic outcome.\" But what does that actually mean? Here's one therapist's take. https://t.co/i4szcGhk3E\n",
      "27726303 2022-12-02 20:21:00+00:00 Excessive noise may be doing more harm to your physical and mental well-being than you realize. @DrSamoonAhmad explains how. https://t.co/mLGzywv9tN\n",
      "27726303 2022-12-02 18:32:00+00:00 \"Children in detention have been subject to forced behavior therapy under the supervision of a psychologist and a cleric. In some instances, children have been prescribed psychiatric drugs.\" https://t.co/bYpYJ3wO9J\n",
      "27726303 2022-12-02 17:04:00+00:00 When it comes to relationships, some people prefer to live out temporary fantasies rather than pursue real-life, long-term goals. Here's a better approach. https://t.co/JTbEO1AaSe\n",
      "27726303 2022-12-02 15:32:00+00:00 What caregivers need to know about raising infants and children who have experienced trauma or grief, by @RahilBriggsPsyD https://t.co/MlgllWQ91X\n",
      "27726303 2022-12-02 14:01:00+00:00 Do you know someone who's struggling with depression? Getting regular exercise can help. Here's how it works. https://t.co/ewnUDfGdn5\n",
      "27726303 2022-12-02 12:16:00+00:00 Struggling with anxious thoughts? How you talk to yourself can make all the difference. https://t.co/oy6hVVqdKF\n",
      "27726303 2022-12-02 10:21:00+00:00 Therapy is just not going to work if the person doesn't want to be there https://t.co/LY52eYrUMn\n",
      "27726303 2022-12-02 08:31:00+00:00 Do you ever find yourself in the middle of an argument without really understanding how it started? Chances are, you're being influenced by emotional triggers from your past. Here's how to change that. https://t.co/jCszQ9sAvP https://t.co/ldvu6799Hl\n",
      "1604444052 2022-12-03 01:00:01+00:00 What is this kitten even doing?! https://t.co/1TZ8cBcSHK\n",
      "1604444052 2022-12-03 00:00:01+00:00 The moment this baby zebra is strong enough to run home 💓😭 https://t.co/CFHHZl03ep\n",
      "1604444052 2022-12-02 23:00:02+00:00 This guy sold his nightclub to save thousands of dogs ❤️ @1371Takis https://t.co/5JwddFaRZ0\n",
      "1604444052 2022-12-02 22:07:00+00:00 Stray dog looks so different, his fur even changed color ❤️ https://t.co/CuPHk64Urb\n",
      "1604444052 2022-12-02 21:05:00+00:00 When they finally get their bath and blowouts ✨🐱 @HopeForPaws https://t.co/I2HiaWYCaH\n",
      "1604444052 2022-12-02 20:01:00+00:00 This lioness is so relieved to reunite with her family ❤️ https://t.co/FQ1Bjtnccf\n",
      "1604444052 2022-12-02 19:00:00+00:00 Guy pulls over to rescue a dog who was abandoned on the side of the road — and keeps on finding more puppies! https://t.co/oDH3O5El8U\n",
      "1604444052 2022-12-02 18:00:00+00:00 When this owl crashed into a family's window, they took him in until he was ready to fly again ❤️ https://t.co/WKZcRw25UH\n",
      "1604444052 2022-12-02 17:00:01+00:00 Rescued bull couldn't stop crying — until this woman sang to him 🧡 https://t.co/LC73t6GjeP\n",
      "1604444052 2022-12-02 16:30:08+00:00 Treats for every day ✨🎄 https://t.co/3VZVsiyoAy\n",
      "498292566 2022-11-27 03:29:34+00:00 Fresh Fruit Platter 🍉👌 https://t.co/NuqW9Bji9b\n",
      "14765253 2022-12-03 01:09:50+00:00 ‘Things are tough for everyone’: Auckland mayor’s latest cost-cutting call https://t.co/BvuIK7Xcy2 https://t.co/uTK2u7xYSR\n",
      "14765253 2022-12-03 00:50:31+00:00 'Unacceptable' World Cup act slammed https://t.co/jSsAyTKrQl https://t.co/HXnpV9QMul\n",
      "14765253 2022-12-03 00:35:49+00:00 Podular creditors owed $5.2m https://t.co/EwmMPIDPfn https://t.co/e3zmTsVMFV\n",
      "14765253 2022-12-03 00:20:23+00:00 Phil Gifford: Eight lasting rugby memories from 2022 #HeraldPremium  https://t.co/TMNuPT1Xam https://t.co/9XFpMpnjQK\n",
      "14765253 2022-12-03 00:03:26+00:00 #BREAKING | Homicide investigation launched into the death of Taranaki man https://t.co/CbzCZ5L9v7 https://t.co/6leCVQkEob\n",
      "14765253 2022-12-02 23:46:36+00:00 Holiday hell: ACC dilemma keeps NZ woman from returning to Australia https://t.co/uhoXNMFSwp https://t.co/3H05JrZIkr\n",
      "14765253 2022-12-02 23:25:35+00:00 #UPDATE | ‘Good progress’: Police say they are ‘confident’ of finding those who murdered teen https://t.co/ZP3OcBwOay https://t.co/VLQEEvjD2j\n",
      "14765253 2022-12-02 23:07:42+00:00 Scenes from an Italian restaurant: Billy Joel hits the town before historic Auckland show https://t.co/v9nMGO8c9Y https://t.co/Xl4UaDSshy\n",
      "14765253 2022-12-02 22:34:21+00:00 Three Waters: Questions remain over how anti-privatisation clause got past ministers https://t.co/XfGMyegF43 https://t.co/h5pT4DQoQc\n",
      "14765253 2022-12-02 22:15:43+00:00 Revealed: Bank boss felt a lack of control #HeraldPremium  https://t.co/kXgXqSidhk https://t.co/WT1SrPlbxJ\n",
      "14301074 2022-12-03 00:27:01+00:00 Tenth of Amazon rainforest destroyed in under four decades https://t.co/vatOc53C1b https://t.co/H05oQiNYsj\n",
      "14301074 2022-12-03 00:06:50+00:00 Man arrested in fatal shooting of Migos rapper Takeoff https://t.co/muc1lPzCaj https://t.co/LqmZbKvvj6\n",
      "14301074 2022-12-02 23:48:13+00:00 Prince William meets President Biden on US visit https://t.co/ZjBeWLbquk https://t.co/5z5IiP76k7\n",
      "14301074 2022-12-02 23:28:52+00:00 Kaipara mayor Craig Jepson unrepentant over karakia ban https://t.co/H9W8i3eMhi https://t.co/KAX0qniHKG\n",
      "14301074 2022-12-02 23:16:38+00:00 Wayne Brown demands cost-cutting start after meeting scrapped https://t.co/ipmQm84Z2m https://t.co/zndsUdYg8m\n",
      "14301074 2022-12-02 22:59:44+00:00 Homicide investigation launched after Taranaki man's death https://t.co/wmLXzwK22r https://t.co/cNuYSQC2Kz\n",
      "14301074 2022-12-02 22:41:38+00:00 Govt agency call wait times double that of private businesses https://t.co/W8CMElzk8P https://t.co/QBbgyqq06Q\n",
      "14301074 2022-12-02 22:17:56+00:00 FBI director raises national security concerns about TikTok https://t.co/SMz4znKtX9 https://t.co/uNjWRApoem\n",
      "14301074 2022-12-02 22:00:00+00:00 A group of University of Canterbury students are aiming to break the E1 (electric vehicles under 500kg) world land speed record in a car they designed and built themselves. \n",
      "\n",
      "👉 https://t.co/rexuOW0Cjf https://t.co/1ctcxvmQec\n",
      "14301074 2022-12-02 21:44:48+00:00 Edward Snowden gets Russian passport, takes citizenship oath https://t.co/3ZcgsBMlwW https://t.co/GIaF0xvgDk\n"
     ]
    }
   ],
   "source": [
    "for f in following_ids[:5]: #the number 10 can be increased to show tweets from more accounts\n",
    "    query = 'from:' + str(f) + ' -is:retweet'\n",
    "\n",
    "# get max. 10 tweets from each account followed\n",
    "    tweets = client.search_recent_tweets(query=query, \n",
    "                                    tweet_fields=['author_id', 'created_at'],\n",
    "                                     max_results=10)\n",
    "    if tweets.data is not None:\n",
    "        for tweet in tweets.data:\n",
    "            print(tweet.author_id, tweet.created_at, tweet.text)"
   ]
  },
  {
   "cell_type": "markdown",
   "metadata": {
    "id": "k2NpPlOIJhQ6"
   },
   "source": [
    "The request to see your own recent tweets is similar, but uses a single call to the `get_users_tweets` endpoint. Try this below:"
   ]
  },
  {
   "cell_type": "code",
   "execution_count": 122,
   "metadata": {
    "id": "QMlhdx5NJhQ6"
   },
   "outputs": [
    {
     "data": {
      "text/plain": [
       "Response(data=[<Tweet id=1598859958853976066 text='#BREAKING | Whangarei stabbing: Two hospitalised after fight; man appears in court https://t.co/xDYNL8a9X3 https://t.co/3hfBXq4WEw'>, <Tweet id=1598857311174402049 text='Kaipara mayor unrepentant over ban on karakia https://t.co/7odr7fzBij https://t.co/fqzmYqN7cq'>, <Tweet id=1598854211147825152 text=\"'Regret is not rape': Lawyers for rapist Harvey Weinstein attack accusers https://t.co/PunShponVw https://t.co/eheRqLEJoO\">, <Tweet id=1598846941705691137 text='‘Things are tough for everyone’: Auckland mayor’s latest cost-cutting call https://t.co/BvuIK7Xcy2 https://t.co/uTK2u7xYSR'>, <Tweet id=1598842081216282631 text=\"'Unacceptable' World Cup act slammed https://t.co/jSsAyTKrQl https://t.co/HXnpV9QMul\">, <Tweet id=1598838378568585216 text='Podular creditors owed $5.2m https://t.co/EwmMPIDPfn https://t.co/e3zmTsVMFV'>, <Tweet id=1598834494819237888 text='Phil Gifford: Eight lasting rugby memories from 2022\\xa0#HeraldPremium  https://t.co/TMNuPT1Xam https://t.co/9XFpMpnjQK'>, <Tweet id=1598830229824356352 text='#BREAKING | Homicide investigation launched into the death of Taranaki man https://t.co/CbzCZ5L9v7 https://t.co/6leCVQkEob'>, <Tweet id=1598825995364073472 text='Holiday hell: ACC dilemma keeps NZ woman from returning to Australia https://t.co/uhoXNMFSwp https://t.co/3H05JrZIkr'>, <Tweet id=1598820704962617353 text='#UPDATE | ‘Good progress’: Police say they are ‘confident’ of finding those who murdered teen https://t.co/ZP3OcBwOay https://t.co/VLQEEvjD2j'>], includes={}, errors=[], meta={'result_count': 10, 'newest_id': '1598859958853976066', 'oldest_id': '1598820704962617353', 'next_token': '7140dibdnow9c7btw424cf1qcpmxqe7rx9hvle7w4v9df'})"
      ]
     },
     "execution_count": 122,
     "metadata": {},
     "output_type": "execute_result"
    }
   ],
   "source": [
    "data_tweets = client.get_users_tweets(14765253)\n",
    "data_tweets"
   ]
  },
  {
   "cell_type": "markdown",
   "metadata": {
    "id": "qY7oM-lJJhQ8"
   },
   "source": [
    "Now, instead of printing the text of each tweet, print the `created_at` and `id` attributes:"
   ]
  },
  {
   "cell_type": "code",
   "execution_count": 127,
   "metadata": {
    "id": "aUOlNdG8JhQ9"
   },
   "outputs": [
    {
     "name": "stdout",
     "output_type": "stream",
     "text": [
      "14765253 2022-12-03 02:11:51+00:00\n",
      "14765253 2022-12-03 02:01:34+00:00\n",
      "14765253 2022-12-03 01:51:02+00:00\n",
      "14765253 2022-12-03 01:38:43+00:00\n",
      "14765253 2022-12-03 01:09:50+00:00\n",
      "14765253 2022-12-03 00:50:31+00:00\n",
      "14765253 2022-12-03 00:35:49+00:00\n",
      "14765253 2022-12-03 00:20:23+00:00\n",
      "14765253 2022-12-03 00:03:26+00:00\n",
      "14765253 2022-12-02 23:46:36+00:00\n"
     ]
    }
   ],
   "source": [
    "query = 'from:' + str(14765253) + ' -is:retweet'\n",
    "tweets = client.search_recent_tweets(query=query, \n",
    "                                    tweet_fields=['author_id', 'created_at'],\n",
    "                                     max_results=10)\n",
    "if tweets.data is not None:\n",
    "    for tweet in tweets.data:\n",
    "        print(tweet.author_id, tweet.created_at)"
   ]
  },
  {
   "cell_type": "markdown",
   "metadata": {
    "id": "3PibchrmJhQ-"
   },
   "source": [
    "You can create a tweet as follows:"
   ]
  },
  {
   "cell_type": "code",
   "execution_count": 103,
   "metadata": {
    "id": "IwzTjf1gJhQ_"
   },
   "outputs": [],
   "source": [
    "# create a tweet:\n",
    "tweet = client.create_tweet(text='Test: Made with Tweepy')"
   ]
  },
  {
   "cell_type": "markdown",
   "metadata": {
    "id": "TtlXvbjoJhRB"
   },
   "source": [
    "(Nb. Don't abuse this feature! If you try to generate a zillion tweets in a loop, Twitter will ban your account.)"
   ]
  },
  {
   "cell_type": "markdown",
   "metadata": {
    "id": "awUIiruTJhRB"
   },
   "source": [
    "Tweets can be deleted by reference to their `id_str` attribute:"
   ]
  },
  {
   "cell_type": "code",
   "execution_count": 104,
   "metadata": {
    "id": "dbuCxyMyc-_m"
   },
   "outputs": [
    {
     "data": {
      "text/plain": [
       "'1598856214443864065'"
      ]
     },
     "execution_count": 104,
     "metadata": {},
     "output_type": "execute_result"
    }
   ],
   "source": [
    "tweet.data['id']"
   ]
  },
  {
   "cell_type": "code",
   "execution_count": 105,
   "metadata": {
    "id": "tKPSCOEBJhRC"
   },
   "outputs": [],
   "source": [
    "# delete a tweet:\n",
    "status = client.delete_tweet(tweet.data['id'])"
   ]
  },
  {
   "cell_type": "markdown",
   "metadata": {
    "id": "hEt9NWJBJhRE"
   },
   "source": [
    "You can follow a Tweeter:"
   ]
  },
  {
   "cell_type": "code",
   "execution_count": 106,
   "metadata": {
    "id": "CDWxR8wOJhRF"
   },
   "outputs": [
    {
     "data": {
      "text/plain": [
       "Response(data={'following': True, 'pending_follow': False}, includes={}, errors=[], meta={})"
      ]
     },
     "execution_count": 106,
     "metadata": {},
     "output_type": "execute_result"
    }
   ],
   "source": [
    "# follow:\n",
    "client.follow_user('10228272') #YouTube"
   ]
  },
  {
   "cell_type": "markdown",
   "metadata": {
    "id": "Nbp2vRONJhRH"
   },
   "source": [
    "or unfollow:"
   ]
  },
  {
   "cell_type": "code",
   "execution_count": 107,
   "metadata": {
    "id": "wCsNNVT9JhRH"
   },
   "outputs": [
    {
     "data": {
      "text/plain": [
       "Response(data={'following': False}, includes={}, errors=[], meta={})"
      ]
     },
     "execution_count": 107,
     "metadata": {},
     "output_type": "execute_result"
    }
   ],
   "source": [
    "# unfollow:\n",
    "client.unfollow_user('10228272')"
   ]
  },
  {
   "cell_type": "markdown",
   "metadata": {
    "id": "59l7EOATJrJO"
   },
   "source": [
    "\n",
    "\n",
    "---\n",
    "\n",
    "\n",
    "\n",
    "---\n",
    "\n",
    "\n",
    "\n",
    "> > > > > > > > > © 2022 Institute of Data\n",
    "\n",
    "\n",
    "---\n",
    "\n",
    "\n",
    "\n",
    "---\n",
    "\n",
    "\n",
    "\n"
   ]
  }
 ],
 "metadata": {
  "colab": {
   "collapsed_sections": [],
   "provenance": []
  },
  "kernelspec": {
   "display_name": "Python 3 (ipykernel)",
   "language": "python",
   "name": "python3"
  },
  "language_info": {
   "codemirror_mode": {
    "name": "ipython",
    "version": 3
   },
   "file_extension": ".py",
   "mimetype": "text/x-python",
   "name": "python",
   "nbconvert_exporter": "python",
   "pygments_lexer": "ipython3",
   "version": "3.10.8"
  }
 },
 "nbformat": 4,
 "nbformat_minor": 4
}
